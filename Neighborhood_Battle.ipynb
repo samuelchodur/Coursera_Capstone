{
 "cells": [
  {
   "cell_type": "markdown",
   "metadata": {},
   "source": [
    "# Exploring Los Angeles County Cities: Identifying 'Quiet' Areas"
   ]
  },
  {
   "cell_type": "markdown",
   "metadata": {},
   "source": [
    "## 1. Discussion and Background of the Business Problem:"
   ]
  },
  {
   "cell_type": "markdown",
   "metadata": {},
   "source": [
    "### 1.1 Problem Statement: Prospects of Relatively 'Quiet' Cities in the Surrounding Los Angeles Area"
   ]
  },
  {
   "cell_type": "markdown",
   "metadata": {},
   "source": [
    "Los Angeles is the largest city in the state of California. It has an estimated population of nearly four million people making it tough to find 'quiet' places that lack cultural noise."
   ]
  },
  {
   "cell_type": "markdown",
   "metadata": {},
   "source": [
    "### 1.2 Target Audience"
   ]
  },
  {
   "cell_type": "markdown",
   "metadata": {},
   "source": [
    "What type of clients or a group of people would be interested in this project?\n",
    "\n",
    "- Business Owners\n",
    "- Prospective Home Owners\n",
    "- Seismic Sensor Installers"
   ]
  },
  {
   "cell_type": "markdown",
   "metadata": {},
   "source": [
    "### 1.3 Data Description"
   ]
  },
  {
   "cell_type": "markdown",
   "metadata": {},
   "source": [
    "Data will be collected from the following sources:\n",
    "- Los Angeles county city data that contains **city name**, and **population**.<br>\n",
    "     *Data Source:* [Wikipedia](https://en.wikipedia.org/wiki/List_of_cities_in_Los_Angeles_County,_California)\n",
    "- Los Angeles county city data that contains **land area** in square miles.<br>\n",
    "     *Data Source:* [Census.gov](https://www2.census.gov/geo/docs/maps-data/data/gazetteer/2017_Gazetteer/2017_gaz_place_06.txt)\n",
    "- Coordinate data for the cities in Los Angeles county which includes **latitude** and **longitude**.<br>\n",
    "     *Data Source:* The Geocoder Python library\n",
    "- The number of retail establishments will be fetched using the Foursquare API.<br>\n",
    "     *Data Source:* Foursquare API"
   ]
  },
  {
   "cell_type": "markdown",
   "metadata": {},
   "source": [
    "### 1.4 Approach"
   ]
  },
  {
   "cell_type": "markdown",
   "metadata": {},
   "source": [
    "The approach to resolve the issue of identifying the most quiet areas in Los Angeles county is as follows:\n",
    "\n",
    "- Collect Los Angeles county city data from Wikipedia.\n",
    "- Utilize the Geocoder Python library to collect city coordinate data.\n",
    "- Use the Foursquare API to get the approximate number of retail establishments in each City.\n",
    "- Preprocess the data\n",
    "- Visualize the data and do some statistical analysis.\n",
    "- Analyzing by using Clustering (K-Means).\n",
    "- Find the best value for K.\n",
    "- Visualize the city max density of population.\n",
    "- Visualize the city max density of retail establishments.\n",
    "- From results, infer which areas would be the quietest and draw conclusions."
   ]
  },
  {
   "cell_type": "markdown",
   "metadata": {},
   "source": [
    "## 2. Data Preparation:"
   ]
  },
  {
   "cell_type": "markdown",
   "metadata": {},
   "source": [
    "### 2.1 Scraping Los Angeles County Cities from Wikipedia"
   ]
  },
  {
   "cell_type": "code",
   "execution_count": 2,
   "metadata": {},
   "outputs": [],
   "source": [
    "# https://towardsdatascience.com/exploring-the-tokyo-neighborhoods-data-science-in-real-life-8b6c2454ca16\n",
    "# https://towardsdatascience.com/classification-of-moscow-metro-stations-using-foursquare-data-fb8aad3e0e4\n",
    "# https://ruddra.com/posts/project-battle-of-capstones/\n",
    "\n",
    "import pandas as pd\n",
    "import numpy as np\n",
    "\n",
    "import re\n",
    "\n",
    "# A List of Cities in Los Angeles County, California\n",
    "wiki_link = \"https://en.wikipedia.org/wiki/List_of_cities_in_Los_Angeles_County,_California\""
   ]
  },
  {
   "cell_type": "markdown",
   "metadata": {},
   "source": [
    "Pandas provides a method for reading html directly into a DataFrame."
   ]
  },
  {
   "cell_type": "code",
   "execution_count": 129,
   "metadata": {},
   "outputs": [
    {
     "data": {
      "text/plain": [
       "Index(['City', 'Date incorporated', 'Population as of(2010 Census)'], dtype='object')"
      ]
     },
     "execution_count": 129,
     "metadata": {},
     "output_type": "execute_result"
    }
   ],
   "source": [
    "# Read the wikipedia tables into dataframes\n",
    "dfs = pd.read_html(wiki_link)\n",
    "# the first DF contains city data\n",
    "df = dfs[0]\n",
    "df.columns"
   ]
  },
  {
   "cell_type": "markdown",
   "metadata": {},
   "source": [
    "### 2.2 Clean the City Data"
   ]
  },
  {
   "cell_type": "markdown",
   "metadata": {},
   "source": [
    "Now that the data is obtained, we must clean it up a bit. The date the city was incorporated will be of no use to us during analysis. We should also rename the Population column so it is more easily accessed.  "
   ]
  },
  {
   "cell_type": "code",
   "execution_count": 130,
   "metadata": {},
   "outputs": [
    {
     "data": {
      "text/html": [
       "<div>\n",
       "<style scoped>\n",
       "    .dataframe tbody tr th:only-of-type {\n",
       "        vertical-align: middle;\n",
       "    }\n",
       "\n",
       "    .dataframe tbody tr th {\n",
       "        vertical-align: top;\n",
       "    }\n",
       "\n",
       "    .dataframe thead th {\n",
       "        text-align: right;\n",
       "    }\n",
       "</style>\n",
       "<table border=\"1\" class=\"dataframe\">\n",
       "  <thead>\n",
       "    <tr style=\"text-align: right;\">\n",
       "      <th></th>\n",
       "      <th>City</th>\n",
       "      <th>Population</th>\n",
       "    </tr>\n",
       "  </thead>\n",
       "  <tbody>\n",
       "    <tr>\n",
       "      <th>0</th>\n",
       "      <td>Agoura Hills</td>\n",
       "      <td>20330</td>\n",
       "    </tr>\n",
       "    <tr>\n",
       "      <th>1</th>\n",
       "      <td>Alhambra</td>\n",
       "      <td>83653</td>\n",
       "    </tr>\n",
       "    <tr>\n",
       "      <th>2</th>\n",
       "      <td>Arcadia</td>\n",
       "      <td>56364</td>\n",
       "    </tr>\n",
       "    <tr>\n",
       "      <th>3</th>\n",
       "      <td>Artesia</td>\n",
       "      <td>16522</td>\n",
       "    </tr>\n",
       "    <tr>\n",
       "      <th>4</th>\n",
       "      <td>Avalon</td>\n",
       "      <td>3728</td>\n",
       "    </tr>\n",
       "  </tbody>\n",
       "</table>\n",
       "</div>"
      ],
      "text/plain": [
       "           City  Population\n",
       "0  Agoura Hills       20330\n",
       "1      Alhambra       83653\n",
       "2       Arcadia       56364\n",
       "3       Artesia       16522\n",
       "4        Avalon        3728"
      ]
     },
     "execution_count": 130,
     "metadata": {},
     "output_type": "execute_result"
    }
   ],
   "source": [
    "# Date Incorporated is useless\n",
    "df = df.drop(['Date incorporated'], axis=1)\n",
    "\n",
    "# Rename Population Column\n",
    "df = df.rename(columns={'Population as of(2010 Census)':'Population'})\n",
    "df.head()"
   ]
  },
  {
   "cell_type": "markdown",
   "metadata": {},
   "source": [
    "### 2.3 Obtaining Coordinate Data"
   ]
  },
  {
   "cell_type": "code",
   "execution_count": 131,
   "metadata": {},
   "outputs": [],
   "source": [
    "import geocoder"
   ]
  },
  {
   "cell_type": "markdown",
   "metadata": {},
   "source": [
    "We will use the ArcGIS provider, as it seems to be the most reliable."
   ]
  },
  {
   "cell_type": "code",
   "execution_count": 132,
   "metadata": {},
   "outputs": [],
   "source": [
    "def get_lat_lon(city):\n",
    "    print('Trying to get coordinates for {}'.format(city))\n",
    "    lat_lon = None\n",
    "    while not lat_lon:\n",
    "        geo_str = '{}, Los Angeles County, California'.format(city)\n",
    "        g = geocoder.arcgis(geo_str)\n",
    "        lat_lon = g.latlng\n",
    "    print('Successfully got coordinates for {}'.format(city))\n",
    "    return lat_lon"
   ]
  },
  {
   "cell_type": "markdown",
   "metadata": {},
   "source": [
    "Use the applymap function to send each City to the get_lat_lon function. Please be patient, this may take well over 1 minute to obtain all the coordinates."
   ]
  },
  {
   "cell_type": "code",
   "execution_count": 133,
   "metadata": {},
   "outputs": [
    {
     "name": "stdout",
     "output_type": "stream",
     "text": [
      "Trying to get coordinates for Agoura Hills\n",
      "Successfully got coordinates for Agoura Hills\n",
      "Trying to get coordinates for Alhambra\n",
      "Successfully got coordinates for Alhambra\n",
      "Trying to get coordinates for Arcadia\n",
      "Successfully got coordinates for Arcadia\n",
      "Trying to get coordinates for Artesia\n",
      "Successfully got coordinates for Artesia\n",
      "Trying to get coordinates for Avalon\n",
      "Successfully got coordinates for Avalon\n",
      "Trying to get coordinates for Azusa\n",
      "Successfully got coordinates for Azusa\n",
      "Trying to get coordinates for Baldwin Park\n",
      "Successfully got coordinates for Baldwin Park\n",
      "Trying to get coordinates for Bell\n",
      "Successfully got coordinates for Bell\n",
      "Trying to get coordinates for Bell Gardens\n",
      "Successfully got coordinates for Bell Gardens\n",
      "Trying to get coordinates for Bellflower\n",
      "Successfully got coordinates for Bellflower\n",
      "Trying to get coordinates for Beverly Hills\n",
      "Successfully got coordinates for Beverly Hills\n",
      "Trying to get coordinates for Bradbury\n",
      "Successfully got coordinates for Bradbury\n",
      "Trying to get coordinates for Burbank\n",
      "Successfully got coordinates for Burbank\n",
      "Trying to get coordinates for Calabasas\n",
      "Successfully got coordinates for Calabasas\n",
      "Trying to get coordinates for Carson\n",
      "Successfully got coordinates for Carson\n",
      "Trying to get coordinates for Cerritos\n",
      "Successfully got coordinates for Cerritos\n",
      "Trying to get coordinates for Claremont\n",
      "Successfully got coordinates for Claremont\n",
      "Trying to get coordinates for Commerce\n",
      "Successfully got coordinates for Commerce\n",
      "Trying to get coordinates for Compton\n",
      "Successfully got coordinates for Compton\n",
      "Trying to get coordinates for Covina\n",
      "Successfully got coordinates for Covina\n",
      "Trying to get coordinates for Cudahy\n",
      "Successfully got coordinates for Cudahy\n",
      "Trying to get coordinates for Culver City\n",
      "Successfully got coordinates for Culver City\n",
      "Trying to get coordinates for Diamond Bar\n",
      "Successfully got coordinates for Diamond Bar\n",
      "Trying to get coordinates for Downey\n",
      "Successfully got coordinates for Downey\n",
      "Trying to get coordinates for Duarte\n",
      "Successfully got coordinates for Duarte\n",
      "Trying to get coordinates for El Monte\n",
      "Successfully got coordinates for El Monte\n",
      "Trying to get coordinates for El Segundo\n",
      "Successfully got coordinates for El Segundo\n",
      "Trying to get coordinates for Gardena\n",
      "Successfully got coordinates for Gardena\n",
      "Trying to get coordinates for Glendale\n",
      "Successfully got coordinates for Glendale\n",
      "Trying to get coordinates for Glendora\n",
      "Successfully got coordinates for Glendora\n",
      "Trying to get coordinates for Hawaiian Gardens\n",
      "Successfully got coordinates for Hawaiian Gardens\n",
      "Trying to get coordinates for Hawthorne\n",
      "Successfully got coordinates for Hawthorne\n",
      "Trying to get coordinates for Hermosa Beach\n",
      "Successfully got coordinates for Hermosa Beach\n",
      "Trying to get coordinates for Hidden Hills\n",
      "Successfully got coordinates for Hidden Hills\n",
      "Trying to get coordinates for Huntington Park\n",
      "Successfully got coordinates for Huntington Park\n",
      "Trying to get coordinates for Industry\n",
      "Successfully got coordinates for Industry\n",
      "Trying to get coordinates for Inglewood\n",
      "Successfully got coordinates for Inglewood\n",
      "Trying to get coordinates for Irwindale\n",
      "Successfully got coordinates for Irwindale\n",
      "Trying to get coordinates for La Cañada Flintridge\n",
      "Successfully got coordinates for La Cañada Flintridge\n",
      "Trying to get coordinates for La Habra Heights\n",
      "Successfully got coordinates for La Habra Heights\n",
      "Trying to get coordinates for La Mirada\n",
      "Successfully got coordinates for La Mirada\n",
      "Trying to get coordinates for La Puente\n",
      "Successfully got coordinates for La Puente\n",
      "Trying to get coordinates for La Verne\n",
      "Successfully got coordinates for La Verne\n",
      "Trying to get coordinates for Lakewood\n",
      "Successfully got coordinates for Lakewood\n",
      "Trying to get coordinates for Lancaster\n",
      "Successfully got coordinates for Lancaster\n",
      "Trying to get coordinates for Lawndale\n",
      "Successfully got coordinates for Lawndale\n",
      "Trying to get coordinates for Lomita\n",
      "Successfully got coordinates for Lomita\n",
      "Trying to get coordinates for Long Beach\n",
      "Successfully got coordinates for Long Beach\n",
      "Trying to get coordinates for Los Angeles\n",
      "Successfully got coordinates for Los Angeles\n",
      "Trying to get coordinates for Lynwood\n",
      "Successfully got coordinates for Lynwood\n",
      "Trying to get coordinates for Malibu\n",
      "Successfully got coordinates for Malibu\n",
      "Trying to get coordinates for Manhattan Beach\n",
      "Successfully got coordinates for Manhattan Beach\n",
      "Trying to get coordinates for Maywood\n",
      "Successfully got coordinates for Maywood\n",
      "Trying to get coordinates for Monrovia\n",
      "Successfully got coordinates for Monrovia\n",
      "Trying to get coordinates for Montebello\n",
      "Successfully got coordinates for Montebello\n",
      "Trying to get coordinates for Monterey Park\n",
      "Successfully got coordinates for Monterey Park\n",
      "Trying to get coordinates for Norwalk\n",
      "Successfully got coordinates for Norwalk\n",
      "Trying to get coordinates for Palmdale\n",
      "Successfully got coordinates for Palmdale\n",
      "Trying to get coordinates for Palos Verdes Estates\n",
      "Successfully got coordinates for Palos Verdes Estates\n",
      "Trying to get coordinates for Paramount\n",
      "Successfully got coordinates for Paramount\n",
      "Trying to get coordinates for Pasadena\n",
      "Successfully got coordinates for Pasadena\n",
      "Trying to get coordinates for Pico Rivera\n",
      "Successfully got coordinates for Pico Rivera\n",
      "Trying to get coordinates for Pomona\n",
      "Successfully got coordinates for Pomona\n",
      "Trying to get coordinates for Rancho Palos Verdes\n",
      "Successfully got coordinates for Rancho Palos Verdes\n",
      "Trying to get coordinates for Redondo Beach\n",
      "Successfully got coordinates for Redondo Beach\n",
      "Trying to get coordinates for Rolling Hills\n",
      "Successfully got coordinates for Rolling Hills\n",
      "Trying to get coordinates for Rolling Hills Estates\n",
      "Successfully got coordinates for Rolling Hills Estates\n",
      "Trying to get coordinates for Rosemead\n",
      "Successfully got coordinates for Rosemead\n",
      "Trying to get coordinates for San Dimas\n",
      "Successfully got coordinates for San Dimas\n",
      "Trying to get coordinates for San Fernando\n",
      "Successfully got coordinates for San Fernando\n",
      "Trying to get coordinates for San Gabriel\n",
      "Successfully got coordinates for San Gabriel\n",
      "Trying to get coordinates for San Marino\n",
      "Successfully got coordinates for San Marino\n",
      "Trying to get coordinates for Santa Clarita\n",
      "Successfully got coordinates for Santa Clarita\n",
      "Trying to get coordinates for Santa Fe Springs\n",
      "Successfully got coordinates for Santa Fe Springs\n",
      "Trying to get coordinates for Santa Monica\n",
      "Successfully got coordinates for Santa Monica\n",
      "Trying to get coordinates for Sierra Madre\n",
      "Successfully got coordinates for Sierra Madre\n",
      "Trying to get coordinates for Signal Hill\n",
      "Successfully got coordinates for Signal Hill\n",
      "Trying to get coordinates for South El Monte\n",
      "Successfully got coordinates for South El Monte\n",
      "Trying to get coordinates for South Gate\n",
      "Successfully got coordinates for South Gate\n",
      "Trying to get coordinates for South Pasadena\n",
      "Successfully got coordinates for South Pasadena\n",
      "Trying to get coordinates for Temple City\n",
      "Successfully got coordinates for Temple City\n",
      "Trying to get coordinates for Torrance\n",
      "Successfully got coordinates for Torrance\n",
      "Trying to get coordinates for Vernon\n",
      "Successfully got coordinates for Vernon\n",
      "Trying to get coordinates for Walnut\n",
      "Successfully got coordinates for Walnut\n",
      "Trying to get coordinates for West Covina\n",
      "Successfully got coordinates for West Covina\n",
      "Trying to get coordinates for West Hollywood\n",
      "Successfully got coordinates for West Hollywood\n",
      "Trying to get coordinates for Westlake Village\n",
      "Successfully got coordinates for Westlake Village\n",
      "Trying to get coordinates for Whittier\n",
      "Successfully got coordinates for Whittier\n",
      "Trying to get coordinates for Agoura Hills\n",
      "Successfully got coordinates for Agoura Hills\n",
      "Trying to get coordinates for Alhambra\n",
      "Successfully got coordinates for Alhambra\n",
      "Trying to get coordinates for Arcadia\n",
      "Successfully got coordinates for Arcadia\n",
      "Trying to get coordinates for Artesia\n",
      "Successfully got coordinates for Artesia\n",
      "Trying to get coordinates for Avalon\n",
      "Successfully got coordinates for Avalon\n",
      "Trying to get coordinates for Azusa\n",
      "Successfully got coordinates for Azusa\n",
      "Trying to get coordinates for Baldwin Park\n",
      "Successfully got coordinates for Baldwin Park\n",
      "Trying to get coordinates for Bell\n",
      "Successfully got coordinates for Bell\n",
      "Trying to get coordinates for Bell Gardens\n",
      "Successfully got coordinates for Bell Gardens\n",
      "Trying to get coordinates for Bellflower\n"
     ]
    },
    {
     "name": "stdout",
     "output_type": "stream",
     "text": [
      "Successfully got coordinates for Bellflower\n",
      "Trying to get coordinates for Beverly Hills\n",
      "Successfully got coordinates for Beverly Hills\n",
      "Trying to get coordinates for Bradbury\n",
      "Successfully got coordinates for Bradbury\n",
      "Trying to get coordinates for Burbank\n",
      "Successfully got coordinates for Burbank\n",
      "Trying to get coordinates for Calabasas\n",
      "Successfully got coordinates for Calabasas\n",
      "Trying to get coordinates for Carson\n",
      "Successfully got coordinates for Carson\n",
      "Trying to get coordinates for Cerritos\n",
      "Successfully got coordinates for Cerritos\n",
      "Trying to get coordinates for Claremont\n",
      "Successfully got coordinates for Claremont\n",
      "Trying to get coordinates for Commerce\n",
      "Successfully got coordinates for Commerce\n",
      "Trying to get coordinates for Compton\n",
      "Successfully got coordinates for Compton\n",
      "Trying to get coordinates for Covina\n",
      "Successfully got coordinates for Covina\n",
      "Trying to get coordinates for Cudahy\n",
      "Successfully got coordinates for Cudahy\n",
      "Trying to get coordinates for Culver City\n",
      "Successfully got coordinates for Culver City\n",
      "Trying to get coordinates for Diamond Bar\n",
      "Successfully got coordinates for Diamond Bar\n",
      "Trying to get coordinates for Downey\n",
      "Successfully got coordinates for Downey\n",
      "Trying to get coordinates for Duarte\n",
      "Successfully got coordinates for Duarte\n",
      "Trying to get coordinates for El Monte\n",
      "Successfully got coordinates for El Monte\n",
      "Trying to get coordinates for El Segundo\n",
      "Successfully got coordinates for El Segundo\n",
      "Trying to get coordinates for Gardena\n",
      "Successfully got coordinates for Gardena\n",
      "Trying to get coordinates for Glendale\n",
      "Successfully got coordinates for Glendale\n",
      "Trying to get coordinates for Glendora\n",
      "Successfully got coordinates for Glendora\n",
      "Trying to get coordinates for Hawaiian Gardens\n",
      "Successfully got coordinates for Hawaiian Gardens\n",
      "Trying to get coordinates for Hawthorne\n",
      "Successfully got coordinates for Hawthorne\n",
      "Trying to get coordinates for Hermosa Beach\n",
      "Successfully got coordinates for Hermosa Beach\n",
      "Trying to get coordinates for Hidden Hills\n",
      "Successfully got coordinates for Hidden Hills\n",
      "Trying to get coordinates for Huntington Park\n",
      "Successfully got coordinates for Huntington Park\n",
      "Trying to get coordinates for Industry\n",
      "Successfully got coordinates for Industry\n",
      "Trying to get coordinates for Inglewood\n",
      "Successfully got coordinates for Inglewood\n",
      "Trying to get coordinates for Irwindale\n",
      "Successfully got coordinates for Irwindale\n",
      "Trying to get coordinates for La Cañada Flintridge\n",
      "Successfully got coordinates for La Cañada Flintridge\n",
      "Trying to get coordinates for La Habra Heights\n",
      "Successfully got coordinates for La Habra Heights\n",
      "Trying to get coordinates for La Mirada\n",
      "Successfully got coordinates for La Mirada\n",
      "Trying to get coordinates for La Puente\n",
      "Successfully got coordinates for La Puente\n",
      "Trying to get coordinates for La Verne\n",
      "Successfully got coordinates for La Verne\n",
      "Trying to get coordinates for Lakewood\n",
      "Successfully got coordinates for Lakewood\n",
      "Trying to get coordinates for Lancaster\n",
      "Successfully got coordinates for Lancaster\n",
      "Trying to get coordinates for Lawndale\n",
      "Successfully got coordinates for Lawndale\n",
      "Trying to get coordinates for Lomita\n",
      "Successfully got coordinates for Lomita\n",
      "Trying to get coordinates for Long Beach\n",
      "Successfully got coordinates for Long Beach\n",
      "Trying to get coordinates for Los Angeles\n",
      "Successfully got coordinates for Los Angeles\n",
      "Trying to get coordinates for Lynwood\n",
      "Successfully got coordinates for Lynwood\n",
      "Trying to get coordinates for Malibu\n",
      "Successfully got coordinates for Malibu\n",
      "Trying to get coordinates for Manhattan Beach\n",
      "Successfully got coordinates for Manhattan Beach\n",
      "Trying to get coordinates for Maywood\n",
      "Successfully got coordinates for Maywood\n",
      "Trying to get coordinates for Monrovia\n",
      "Successfully got coordinates for Monrovia\n",
      "Trying to get coordinates for Montebello\n",
      "Successfully got coordinates for Montebello\n",
      "Trying to get coordinates for Monterey Park\n",
      "Successfully got coordinates for Monterey Park\n",
      "Trying to get coordinates for Norwalk\n",
      "Successfully got coordinates for Norwalk\n",
      "Trying to get coordinates for Palmdale\n",
      "Successfully got coordinates for Palmdale\n",
      "Trying to get coordinates for Palos Verdes Estates\n",
      "Successfully got coordinates for Palos Verdes Estates\n",
      "Trying to get coordinates for Paramount\n",
      "Successfully got coordinates for Paramount\n",
      "Trying to get coordinates for Pasadena\n",
      "Successfully got coordinates for Pasadena\n",
      "Trying to get coordinates for Pico Rivera\n",
      "Successfully got coordinates for Pico Rivera\n",
      "Trying to get coordinates for Pomona\n",
      "Successfully got coordinates for Pomona\n",
      "Trying to get coordinates for Rancho Palos Verdes\n",
      "Successfully got coordinates for Rancho Palos Verdes\n",
      "Trying to get coordinates for Redondo Beach\n",
      "Successfully got coordinates for Redondo Beach\n",
      "Trying to get coordinates for Rolling Hills\n",
      "Successfully got coordinates for Rolling Hills\n",
      "Trying to get coordinates for Rolling Hills Estates\n",
      "Successfully got coordinates for Rolling Hills Estates\n",
      "Trying to get coordinates for Rosemead\n",
      "Successfully got coordinates for Rosemead\n",
      "Trying to get coordinates for San Dimas\n",
      "Successfully got coordinates for San Dimas\n",
      "Trying to get coordinates for San Fernando\n",
      "Successfully got coordinates for San Fernando\n",
      "Trying to get coordinates for San Gabriel\n",
      "Successfully got coordinates for San Gabriel\n",
      "Trying to get coordinates for San Marino\n",
      "Successfully got coordinates for San Marino\n",
      "Trying to get coordinates for Santa Clarita\n",
      "Successfully got coordinates for Santa Clarita\n",
      "Trying to get coordinates for Santa Fe Springs\n",
      "Successfully got coordinates for Santa Fe Springs\n",
      "Trying to get coordinates for Santa Monica\n",
      "Successfully got coordinates for Santa Monica\n",
      "Trying to get coordinates for Sierra Madre\n",
      "Successfully got coordinates for Sierra Madre\n",
      "Trying to get coordinates for Signal Hill\n",
      "Successfully got coordinates for Signal Hill\n",
      "Trying to get coordinates for South El Monte\n",
      "Successfully got coordinates for South El Monte\n",
      "Trying to get coordinates for South Gate\n",
      "Successfully got coordinates for South Gate\n",
      "Trying to get coordinates for South Pasadena\n",
      "Successfully got coordinates for South Pasadena\n",
      "Trying to get coordinates for Temple City\n",
      "Successfully got coordinates for Temple City\n",
      "Trying to get coordinates for Torrance\n",
      "Successfully got coordinates for Torrance\n",
      "Trying to get coordinates for Vernon\n",
      "Successfully got coordinates for Vernon\n",
      "Trying to get coordinates for Walnut\n",
      "Successfully got coordinates for Walnut\n",
      "Trying to get coordinates for West Covina\n",
      "Successfully got coordinates for West Covina\n",
      "Trying to get coordinates for West Hollywood\n",
      "Successfully got coordinates for West Hollywood\n",
      "Trying to get coordinates for Westlake Village\n",
      "Successfully got coordinates for Westlake Village\n",
      "Trying to get coordinates for Whittier\n",
      "Successfully got coordinates for Whittier\n"
     ]
    }
   ],
   "source": [
    "lat_lon_df = df[['City']].applymap(get_lat_lon)"
   ]
  },
  {
   "cell_type": "markdown",
   "metadata": {},
   "source": [
    "Make sure the shape of this DF matches the original and we know from [Wikipedia](https://en.wikipedia.org/wiki/List_of_cities_in_Los_Angeles_County,_California) that there are 88 cities in the county."
   ]
  },
  {
   "cell_type": "code",
   "execution_count": 134,
   "metadata": {},
   "outputs": [
    {
     "data": {
      "text/plain": [
       "(88, 1)"
      ]
     },
     "execution_count": 134,
     "metadata": {},
     "output_type": "execute_result"
    }
   ],
   "source": [
    "lat_lon_df.shape"
   ]
  },
  {
   "cell_type": "markdown",
   "metadata": {},
   "source": [
    "We now will insert the latitude and longitude values into the original DataFrame."
   ]
  },
  {
   "cell_type": "code",
   "execution_count": 135,
   "metadata": {},
   "outputs": [
    {
     "data": {
      "text/html": [
       "<div>\n",
       "<style scoped>\n",
       "    .dataframe tbody tr th:only-of-type {\n",
       "        vertical-align: middle;\n",
       "    }\n",
       "\n",
       "    .dataframe tbody tr th {\n",
       "        vertical-align: top;\n",
       "    }\n",
       "\n",
       "    .dataframe thead th {\n",
       "        text-align: right;\n",
       "    }\n",
       "</style>\n",
       "<table border=\"1\" class=\"dataframe\">\n",
       "  <thead>\n",
       "    <tr style=\"text-align: right;\">\n",
       "      <th></th>\n",
       "      <th>City</th>\n",
       "      <th>Population</th>\n",
       "      <th>Latitude</th>\n",
       "      <th>Longitude</th>\n",
       "    </tr>\n",
       "  </thead>\n",
       "  <tbody>\n",
       "    <tr>\n",
       "      <th>0</th>\n",
       "      <td>Agoura Hills</td>\n",
       "      <td>20330</td>\n",
       "      <td>34.14611</td>\n",
       "      <td>-118.77812</td>\n",
       "    </tr>\n",
       "    <tr>\n",
       "      <th>1</th>\n",
       "      <td>Alhambra</td>\n",
       "      <td>83653</td>\n",
       "      <td>34.09370</td>\n",
       "      <td>-118.12727</td>\n",
       "    </tr>\n",
       "    <tr>\n",
       "      <th>2</th>\n",
       "      <td>Arcadia</td>\n",
       "      <td>56364</td>\n",
       "      <td>34.13614</td>\n",
       "      <td>-118.03887</td>\n",
       "    </tr>\n",
       "    <tr>\n",
       "      <th>3</th>\n",
       "      <td>Artesia</td>\n",
       "      <td>16522</td>\n",
       "      <td>33.86114</td>\n",
       "      <td>-118.07968</td>\n",
       "    </tr>\n",
       "    <tr>\n",
       "      <th>4</th>\n",
       "      <td>Avalon</td>\n",
       "      <td>3728</td>\n",
       "      <td>33.34411</td>\n",
       "      <td>-118.32139</td>\n",
       "    </tr>\n",
       "  </tbody>\n",
       "</table>\n",
       "</div>"
      ],
      "text/plain": [
       "           City  Population  Latitude  Longitude\n",
       "0  Agoura Hills       20330  34.14611 -118.77812\n",
       "1      Alhambra       83653  34.09370 -118.12727\n",
       "2       Arcadia       56364  34.13614 -118.03887\n",
       "3       Artesia       16522  33.86114 -118.07968\n",
       "4        Avalon        3728  33.34411 -118.32139"
      ]
     },
     "execution_count": 135,
     "metadata": {},
     "output_type": "execute_result"
    }
   ],
   "source": [
    "df['Latitude'] = lat_lon_df.City.map(lambda x: x[0])\n",
    "df['Longitude'] = lat_lon_df.City.map(lambda x: x[1])\n",
    "df.head()"
   ]
  },
  {
   "cell_type": "code",
   "execution_count": 136,
   "metadata": {},
   "outputs": [],
   "source": [
    "# Save current DataFrame as CSV so we don't have to hit the web again.\n",
    "df.to_csv('la_cities_latlon.csv', index=False)\n",
    "#df = pd.read_csv('la_cities_latlon.csv')"
   ]
  },
  {
   "cell_type": "markdown",
   "metadata": {},
   "source": [
    "### 2.3 Obtaining Surface Area Data"
   ]
  },
  {
   "cell_type": "markdown",
   "metadata": {},
   "source": [
    "A description of the columns found in the data from census.gov can be found [here](https://www.census.gov/programs-surveys/geography/technical-documentation/records-layout/gaz18-record-layouts.html)"
   ]
  },
  {
   "cell_type": "code",
   "execution_count": 137,
   "metadata": {},
   "outputs": [],
   "source": [
    "surf_area_link = 'https://www2.census.gov/geo/docs/maps-data/data/gazetteer/2019_Gazetteer/2019_gaz_place_06.txt'\n",
    "# encoding parameter is needed to overcome a read issue\n",
    "data = pd.read_csv(surf_area_link, sep='\\t', encoding='latin-1')"
   ]
  },
  {
   "cell_type": "code",
   "execution_count": 138,
   "metadata": {},
   "outputs": [
    {
     "data": {
      "text/html": [
       "<div>\n",
       "<style scoped>\n",
       "    .dataframe tbody tr th:only-of-type {\n",
       "        vertical-align: middle;\n",
       "    }\n",
       "\n",
       "    .dataframe tbody tr th {\n",
       "        vertical-align: top;\n",
       "    }\n",
       "\n",
       "    .dataframe thead th {\n",
       "        text-align: right;\n",
       "    }\n",
       "</style>\n",
       "<table border=\"1\" class=\"dataframe\">\n",
       "  <thead>\n",
       "    <tr style=\"text-align: right;\">\n",
       "      <th></th>\n",
       "      <th>USPS</th>\n",
       "      <th>GEOID</th>\n",
       "      <th>ANSICODE</th>\n",
       "      <th>NAME</th>\n",
       "      <th>LSAD</th>\n",
       "      <th>FUNCSTAT</th>\n",
       "      <th>ALAND</th>\n",
       "      <th>AWATER</th>\n",
       "      <th>ALAND_SQMI</th>\n",
       "      <th>AWATER_SQMI</th>\n",
       "      <th>INTPTLAT</th>\n",
       "      <th>INTPTLONG</th>\n",
       "    </tr>\n",
       "  </thead>\n",
       "  <tbody>\n",
       "    <tr>\n",
       "      <th>0</th>\n",
       "      <td>CA</td>\n",
       "      <td>600135</td>\n",
       "      <td>2582926</td>\n",
       "      <td>Acalanes Ridge CDP</td>\n",
       "      <td>57</td>\n",
       "      <td>S</td>\n",
       "      <td>1193072</td>\n",
       "      <td>0</td>\n",
       "      <td>0.461</td>\n",
       "      <td>0.000</td>\n",
       "      <td>37.904722</td>\n",
       "      <td>-122.078574</td>\n",
       "    </tr>\n",
       "    <tr>\n",
       "      <th>1</th>\n",
       "      <td>CA</td>\n",
       "      <td>600156</td>\n",
       "      <td>2629758</td>\n",
       "      <td>Acampo CDP</td>\n",
       "      <td>57</td>\n",
       "      <td>S</td>\n",
       "      <td>2428474</td>\n",
       "      <td>0</td>\n",
       "      <td>0.938</td>\n",
       "      <td>0.000</td>\n",
       "      <td>38.173529</td>\n",
       "      <td>-121.279892</td>\n",
       "    </tr>\n",
       "    <tr>\n",
       "      <th>2</th>\n",
       "      <td>CA</td>\n",
       "      <td>600212</td>\n",
       "      <td>2407697</td>\n",
       "      <td>Acton CDP</td>\n",
       "      <td>57</td>\n",
       "      <td>S</td>\n",
       "      <td>101679344</td>\n",
       "      <td>60418</td>\n",
       "      <td>39.259</td>\n",
       "      <td>0.023</td>\n",
       "      <td>34.496070</td>\n",
       "      <td>-118.183897</td>\n",
       "    </tr>\n",
       "    <tr>\n",
       "      <th>3</th>\n",
       "      <td>CA</td>\n",
       "      <td>600296</td>\n",
       "      <td>2409663</td>\n",
       "      <td>Adelanto city</td>\n",
       "      <td>25</td>\n",
       "      <td>A</td>\n",
       "      <td>137024204</td>\n",
       "      <td>34740</td>\n",
       "      <td>52.905</td>\n",
       "      <td>0.013</td>\n",
       "      <td>34.580902</td>\n",
       "      <td>-117.439458</td>\n",
       "    </tr>\n",
       "    <tr>\n",
       "      <th>4</th>\n",
       "      <td>CA</td>\n",
       "      <td>600310</td>\n",
       "      <td>2582927</td>\n",
       "      <td>Adin CDP</td>\n",
       "      <td>57</td>\n",
       "      <td>S</td>\n",
       "      <td>8901691</td>\n",
       "      <td>15858</td>\n",
       "      <td>3.437</td>\n",
       "      <td>0.006</td>\n",
       "      <td>41.199312</td>\n",
       "      <td>-120.956779</td>\n",
       "    </tr>\n",
       "  </tbody>\n",
       "</table>\n",
       "</div>"
      ],
      "text/plain": [
       "  USPS   GEOID  ANSICODE                NAME  LSAD FUNCSTAT      ALAND  \\\n",
       "0   CA  600135   2582926  Acalanes Ridge CDP    57        S    1193072   \n",
       "1   CA  600156   2629758          Acampo CDP    57        S    2428474   \n",
       "2   CA  600212   2407697           Acton CDP    57        S  101679344   \n",
       "3   CA  600296   2409663       Adelanto city    25        A  137024204   \n",
       "4   CA  600310   2582927            Adin CDP    57        S    8901691   \n",
       "\n",
       "   AWATER  ALAND_SQMI  AWATER_SQMI   INTPTLAT  \\\n",
       "0       0       0.461        0.000  37.904722   \n",
       "1       0       0.938        0.000  38.173529   \n",
       "2   60418      39.259        0.023  34.496070   \n",
       "3   34740      52.905        0.013  34.580902   \n",
       "4   15858       3.437        0.006  41.199312   \n",
       "\n",
       "   INTPTLONG                                                                                                   \n",
       "0                                        -122.078574                                                           \n",
       "1                                        -121.279892                                                           \n",
       "2                                        -118.183897                                                           \n",
       "3                                        -117.439458                                                           \n",
       "4                                        -120.956779                                                           "
      ]
     },
     "execution_count": 138,
     "metadata": {},
     "output_type": "execute_result"
    }
   ],
   "source": [
    "# well that was easier than expected!\n",
    "data.head()"
   ]
  },
  {
   "cell_type": "code",
   "execution_count": 139,
   "metadata": {},
   "outputs": [],
   "source": [
    "# save out CSV so we have it stored\n",
    "data.to_csv('surf_area_notcleaned.csv', index=False)"
   ]
  },
  {
   "cell_type": "code",
   "execution_count": 140,
   "metadata": {},
   "outputs": [],
   "source": [
    "# Drop values that have 'CDP'\n",
    "data = pd.read_csv('surf_area_notcleaned.csv')\n",
    "dropped_cdp = data.drop(data.loc[data.NAME.str.contains('CDP')].index, axis='index')\n",
    "\n",
    "# Remove 'city' that tails many values\n",
    "dropped_cdp.NAME = dropped_cdp.NAME.map(lambda x: x.rstrip(' city'))\n",
    "\n",
    "dropped_cdp.rename(columns={'NAME':'City', 'ALAND_SQMI':'Land_Area_sqmi'}, inplace=True)\n",
    "dropped_cdp.reset_index(inplace=True)"
   ]
  },
  {
   "cell_type": "code",
   "execution_count": 141,
   "metadata": {},
   "outputs": [],
   "source": [
    "result = pd.merge(df, dropped_cdp[['City', 'Land_Area_sqmi', 'ALAND']], on='City')"
   ]
  },
  {
   "cell_type": "code",
   "execution_count": 142,
   "metadata": {},
   "outputs": [
    {
     "data": {
      "text/plain": [
       "(78, 6)"
      ]
     },
     "execution_count": 142,
     "metadata": {},
     "output_type": "execute_result"
    }
   ],
   "source": [
    "result.shape"
   ]
  },
  {
   "cell_type": "markdown",
   "metadata": {},
   "source": [
    "We see that we are missing 10 rows. Do these rows exist in 'dropped_cdp' ?"
   ]
  },
  {
   "cell_type": "code",
   "execution_count": 143,
   "metadata": {},
   "outputs": [
    {
     "data": {
      "text/html": [
       "<div>\n",
       "<style scoped>\n",
       "    .dataframe tbody tr th:only-of-type {\n",
       "        vertical-align: middle;\n",
       "    }\n",
       "\n",
       "    .dataframe tbody tr th {\n",
       "        vertical-align: top;\n",
       "    }\n",
       "\n",
       "    .dataframe thead th {\n",
       "        text-align: right;\n",
       "    }\n",
       "</style>\n",
       "<table border=\"1\" class=\"dataframe\">\n",
       "  <thead>\n",
       "    <tr style=\"text-align: right;\">\n",
       "      <th></th>\n",
       "      <th>City</th>\n",
       "      <th>Population</th>\n",
       "      <th>Latitude</th>\n",
       "      <th>Longitude</th>\n",
       "    </tr>\n",
       "  </thead>\n",
       "  <tbody>\n",
       "    <tr>\n",
       "      <th>11</th>\n",
       "      <td>Bradbury</td>\n",
       "      <td>1048</td>\n",
       "      <td>34.14531</td>\n",
       "      <td>-117.97094</td>\n",
       "    </tr>\n",
       "    <tr>\n",
       "      <th>16</th>\n",
       "      <td>Claremont</td>\n",
       "      <td>34926</td>\n",
       "      <td>34.09641</td>\n",
       "      <td>-117.71640</td>\n",
       "    </tr>\n",
       "    <tr>\n",
       "      <th>20</th>\n",
       "      <td>Cudahy</td>\n",
       "      <td>23805</td>\n",
       "      <td>33.95983</td>\n",
       "      <td>-118.17602</td>\n",
       "    </tr>\n",
       "    <tr>\n",
       "      <th>21</th>\n",
       "      <td>Culver City</td>\n",
       "      <td>38883</td>\n",
       "      <td>34.02161</td>\n",
       "      <td>-118.39621</td>\n",
       "    </tr>\n",
       "    <tr>\n",
       "      <th>23</th>\n",
       "      <td>Downey</td>\n",
       "      <td>111772</td>\n",
       "      <td>33.94077</td>\n",
       "      <td>-118.12768</td>\n",
       "    </tr>\n",
       "    <tr>\n",
       "      <th>35</th>\n",
       "      <td>Industry</td>\n",
       "      <td>219</td>\n",
       "      <td>34.02336</td>\n",
       "      <td>-117.95661</td>\n",
       "    </tr>\n",
       "    <tr>\n",
       "      <th>38</th>\n",
       "      <td>La Cañada Flintridge</td>\n",
       "      <td>20246</td>\n",
       "      <td>34.20766</td>\n",
       "      <td>-118.20725</td>\n",
       "    </tr>\n",
       "    <tr>\n",
       "      <th>59</th>\n",
       "      <td>Paramount</td>\n",
       "      <td>54098</td>\n",
       "      <td>33.88516</td>\n",
       "      <td>-118.16140</td>\n",
       "    </tr>\n",
       "    <tr>\n",
       "      <th>80</th>\n",
       "      <td>Temple City</td>\n",
       "      <td>35558</td>\n",
       "      <td>34.10728</td>\n",
       "      <td>-118.05668</td>\n",
       "    </tr>\n",
       "    <tr>\n",
       "      <th>83</th>\n",
       "      <td>Walnut</td>\n",
       "      <td>29172</td>\n",
       "      <td>34.02693</td>\n",
       "      <td>-117.84050</td>\n",
       "    </tr>\n",
       "  </tbody>\n",
       "</table>\n",
       "</div>"
      ],
      "text/plain": [
       "                    City  Population  Latitude  Longitude\n",
       "11              Bradbury        1048  34.14531 -117.97094\n",
       "16             Claremont       34926  34.09641 -117.71640\n",
       "20                Cudahy       23805  33.95983 -118.17602\n",
       "21           Culver City       38883  34.02161 -118.39621\n",
       "23                Downey      111772  33.94077 -118.12768\n",
       "35              Industry         219  34.02336 -117.95661\n",
       "38  La Cañada Flintridge       20246  34.20766 -118.20725\n",
       "59             Paramount       54098  33.88516 -118.16140\n",
       "80           Temple City       35558  34.10728 -118.05668\n",
       "83                Walnut       29172  34.02693 -117.84050"
      ]
     },
     "execution_count": 143,
     "metadata": {},
     "output_type": "execute_result"
    }
   ],
   "source": [
    "df[(~df.City.isin(result.City))]"
   ]
  },
  {
   "cell_type": "markdown",
   "metadata": {},
   "source": [
    "We can see that at least 4 of these Cities do exist but were not merged. We will forget about them for now."
   ]
  },
  {
   "cell_type": "code",
   "execution_count": 144,
   "metadata": {},
   "outputs": [
    {
     "data": {
      "text/html": [
       "<div>\n",
       "<style scoped>\n",
       "    .dataframe tbody tr th:only-of-type {\n",
       "        vertical-align: middle;\n",
       "    }\n",
       "\n",
       "    .dataframe tbody tr th {\n",
       "        vertical-align: top;\n",
       "    }\n",
       "\n",
       "    .dataframe thead th {\n",
       "        text-align: right;\n",
       "    }\n",
       "</style>\n",
       "<table border=\"1\" class=\"dataframe\">\n",
       "  <thead>\n",
       "    <tr style=\"text-align: right;\">\n",
       "      <th></th>\n",
       "      <th>index</th>\n",
       "      <th>USPS</th>\n",
       "      <th>GEOID</th>\n",
       "      <th>ANSICODE</th>\n",
       "      <th>City</th>\n",
       "      <th>LSAD</th>\n",
       "      <th>FUNCSTAT</th>\n",
       "      <th>ALAND</th>\n",
       "      <th>AWATER</th>\n",
       "      <th>Land_Area_sqmi</th>\n",
       "      <th>AWATER_SQMI</th>\n",
       "      <th>INTPTLAT</th>\n",
       "      <th>INTPTLONG</th>\n",
       "    </tr>\n",
       "  </thead>\n",
       "  <tbody>\n",
       "    <tr>\n",
       "      <th>100</th>\n",
       "      <td>327</td>\n",
       "      <td>CA</td>\n",
       "      <td>617568</td>\n",
       "      <td>2410276</td>\n",
       "      <td>Culver C</td>\n",
       "      <td>25</td>\n",
       "      <td>A</td>\n",
       "      <td>13237050</td>\n",
       "      <td>72217</td>\n",
       "      <td>5.111</td>\n",
       "      <td>0.028</td>\n",
       "      <td>34.005820</td>\n",
       "      <td>-118.396781</td>\n",
       "    </tr>\n",
       "    <tr>\n",
       "      <th>202</th>\n",
       "      <td>677</td>\n",
       "      <td>CA</td>\n",
       "      <td>639003</td>\n",
       "      <td>2411565</td>\n",
       "      <td>La CaÃ±ada Flintridge</td>\n",
       "      <td>25</td>\n",
       "      <td>A</td>\n",
       "      <td>22341706</td>\n",
       "      <td>44361</td>\n",
       "      <td>8.626</td>\n",
       "      <td>0.017</td>\n",
       "      <td>34.209690</td>\n",
       "      <td>-118.200139</td>\n",
       "    </tr>\n",
       "    <tr>\n",
       "      <th>431</th>\n",
       "      <td>1355</td>\n",
       "      <td>CA</td>\n",
       "      <td>678148</td>\n",
       "      <td>2412047</td>\n",
       "      <td>Temple C</td>\n",
       "      <td>25</td>\n",
       "      <td>A</td>\n",
       "      <td>10371371</td>\n",
       "      <td>0</td>\n",
       "      <td>4.004</td>\n",
       "      <td>0.000</td>\n",
       "      <td>34.102159</td>\n",
       "      <td>-118.057949</td>\n",
       "    </tr>\n",
       "    <tr>\n",
       "      <th>454</th>\n",
       "      <td>1440</td>\n",
       "      <td>CA</td>\n",
       "      <td>683346</td>\n",
       "      <td>2412174</td>\n",
       "      <td>Walnut Creek</td>\n",
       "      <td>25</td>\n",
       "      <td>A</td>\n",
       "      <td>51169190</td>\n",
       "      <td>31195</td>\n",
       "      <td>19.757</td>\n",
       "      <td>0.012</td>\n",
       "      <td>37.902666</td>\n",
       "      <td>-122.040479</td>\n",
       "    </tr>\n",
       "  </tbody>\n",
       "</table>\n",
       "</div>"
      ],
      "text/plain": [
       "     index USPS   GEOID  ANSICODE                   City  LSAD FUNCSTAT  \\\n",
       "100    327   CA  617568   2410276               Culver C    25        A   \n",
       "202    677   CA  639003   2411565  La CaÃ±ada Flintridge    25        A   \n",
       "431   1355   CA  678148   2412047               Temple C    25        A   \n",
       "454   1440   CA  683346   2412174           Walnut Creek    25        A   \n",
       "\n",
       "        ALAND  AWATER  Land_Area_sqmi  AWATER_SQMI   INTPTLAT  \\\n",
       "100  13237050   72217           5.111        0.028  34.005820   \n",
       "202  22341706   44361           8.626        0.017  34.209690   \n",
       "431  10371371       0           4.004        0.000  34.102159   \n",
       "454  51169190   31195          19.757        0.012  37.902666   \n",
       "\n",
       "     INTPTLONG                                                                                                   \n",
       "100                                        -118.396781                                                           \n",
       "202                                        -118.200139                                                           \n",
       "431                                        -118.057949                                                           \n",
       "454                                        -122.040479                                                           "
      ]
     },
     "execution_count": 144,
     "metadata": {},
     "output_type": "execute_result"
    }
   ],
   "source": [
    "dropped_cdp.loc[dropped_cdp.City.str.contains('Paramount|Bradbury|Claremont|Cudahy|Culver|Downey|Industry|Flintridge|Temple|Walnut', flags=re.IGNORECASE)]"
   ]
  },
  {
   "cell_type": "markdown",
   "metadata": {},
   "source": [
    "### 2.3 Obtaining LA Venue Data"
   ]
  },
  {
   "cell_type": "code",
   "execution_count": 147,
   "metadata": {},
   "outputs": [],
   "source": [
    "import folium\n",
    "\n",
    "import requests\n",
    "\n",
    "import geocoder"
   ]
  },
  {
   "cell_type": "markdown",
   "metadata": {},
   "source": [
    "Use geocoder with the ArcGIS provider to get the address of Los Angeles, CA."
   ]
  },
  {
   "cell_type": "code",
   "execution_count": 148,
   "metadata": {},
   "outputs": [],
   "source": [
    "address = 'Los Angeles, CA'\n",
    "\n",
    "g = geocoder.arcgis(address)\n",
    "lat = g.latlng[0]\n",
    "lon = g.latlng[1]\n",
    "\n",
    "df_orig = df.copy() # Just in case...\n",
    "df = result # For convenience"
   ]
  },
  {
   "cell_type": "code",
   "execution_count": 149,
   "metadata": {},
   "outputs": [
    {
     "name": "stdout",
     "output_type": "stream",
     "text": [
      "The geographical coordinates of Los Angeles, CA are 34.05349000000007, -118.24531999999999.\n"
     ]
    }
   ],
   "source": [
    "print('The geographical coordinates of Los Angeles, CA are {}, {}.'.format(lat, lon))"
   ]
  },
  {
   "cell_type": "markdown",
   "metadata": {},
   "source": [
    "Create a map of Los Angeles with cities superimposed on top."
   ]
  },
  {
   "cell_type": "code",
   "execution_count": 150,
   "metadata": {},
   "outputs": [
    {
     "data": {
      "text/html": [
       "<div style=\"width:100%;\"><div style=\"position:relative;width:100%;height:0;padding-bottom:60%;\"><iframe src=\"about:blank\" style=\"position:absolute;width:100%;height:100%;left:0;top:0;border:none !important;\" data-html=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 onload=\"this.contentDocument.open();this.contentDocument.write(atob(this.getAttribute('data-html')));this.contentDocument.close();\" allowfullscreen webkitallowfullscreen mozallowfullscreen></iframe></div></div>"
      ],
      "text/plain": [
       "<folium.folium.Map at 0x7f0e0a04f748>"
      ]
     },
     "execution_count": 150,
     "metadata": {},
     "output_type": "execute_result"
    }
   ],
   "source": [
    "map_la = folium.Map(location=g.latlng, zoom_start=9)\n",
    "\n",
    "for lat, lon, city in zip(df['Latitude'], df['Longitude'], \n",
    "                          df['City']):\n",
    "    label = '{}, Los Angeles'.format(city)\n",
    "    label = folium.Popup(label, parse_html=True)\n",
    "    folium.CircleMarker(location=[lat, lon],\n",
    "                    radius=5,\n",
    "                    popup=label,\n",
    "                    color='blue',\n",
    "                    fill=True,\n",
    "                    fill_color='#3186cc',\n",
    "                    fill_opacity=0.7,\n",
    "                    parse_html=False).add_to(map_la)\n",
    "\n",
    "map_la"
   ]
  },
  {
   "cell_type": "markdown",
   "metadata": {},
   "source": [
    "Need to specify Foursquare credentials to get the data through their API."
   ]
  },
  {
   "cell_type": "code",
   "execution_count": 1,
   "metadata": {},
   "outputs": [
    {
     "name": "stdout",
     "output_type": "stream",
     "text": [
      "Your credentails:\n",
      "CLIENT_ID: your-client-id\n",
      "CLIENT_SECRET:your-secret\n"
     ]
    }
   ],
   "source": [
    "CLIENT_ID = 'your-client-id' # your Foursquare ID\n",
    "CLIENT_SECRET = 'your-secret' # your Foursquare Secret\n",
    "VERSION = '20200506' # Foursquare API version\n",
    "LIMIT = 100\n",
    "\n",
    "print('Your credentails:')\n",
    "print('CLIENT_ID: ' + CLIENT_ID)\n",
    "print('CLIENT_SECRET:' + CLIENT_SECRET)"
   ]
  },
  {
   "cell_type": "markdown",
   "metadata": {},
   "source": [
    "Define a function to obtain venues that are nearby to the Cities. What is a good value for radius? Shouldn't this be made dynamically based on the area the city encompasses?"
   ]
  },
  {
   "cell_type": "code",
   "execution_count": 152,
   "metadata": {},
   "outputs": [],
   "source": [
    "def getNearbyVenues(names, latitudes, longitudes, radius=500):\n",
    "    print('Getting venue list, this may take a while...')\n",
    "    venues_list=[]\n",
    "    for name, lat, lng in zip(names, latitudes, longitudes):\n",
    "        #print(name)\n",
    "            \n",
    "        # create the API request URL\n",
    "        url = 'https://api.foursquare.com/v2/venues/explore?&client_id={}&client_secret={}&v={}&ll={},{}&radius={}&limit={}'.format(\n",
    "            CLIENT_ID, \n",
    "            CLIENT_SECRET, \n",
    "            VERSION, \n",
    "            lat, \n",
    "            lng, \n",
    "            radius, \n",
    "            LIMIT)\n",
    "            \n",
    "        # make the GET request\n",
    "        results = requests.get(url).json()[\"response\"]['groups'][0]['items']\n",
    "\n",
    "        \n",
    "        # return only relevant information for each nearby venue\n",
    "        venues_list.append([(\n",
    "            name, \n",
    "            lat, \n",
    "            lng, \n",
    "            v['venue']['name'], \n",
    "            v['venue']['location']['lat'], \n",
    "            v['venue']['location']['lng'],\n",
    "            # how to get the only the primary category?\n",
    "            v['venue']['categories'][0]['name']) for v in results])\n",
    "                \n",
    "\n",
    "    nearby_venues = pd.DataFrame([item for venue_list in venues_list for item in venue_list])\n",
    "    nearby_venues.columns = ['City', \n",
    "                  'City Latitude', \n",
    "                  'City Longitude', \n",
    "                  'Venue', \n",
    "                  'Venue Latitude', \n",
    "                  'Venue Longitude', \n",
    "                  'Venue Category']\n",
    "    \n",
    "    return(nearby_venues)"
   ]
  },
  {
   "cell_type": "markdown",
   "metadata": {},
   "source": [
    "Use previously defined function to obtain a list of LA foursquare venues."
   ]
  },
  {
   "cell_type": "code",
   "execution_count": 13,
   "metadata": {},
   "outputs": [
    {
     "name": "stdout",
     "output_type": "stream",
     "text": [
      "Getting venue list, this may take a while...\n",
      "Done!\n"
     ]
    }
   ],
   "source": [
    "la_venues = getNearbyVenues(names=df['City'], \n",
    "                            latitudes=df['Latitude'],\n",
    "                            longitudes=df['Longitude']\n",
    "                       )\n",
    "print('Done!')"
   ]
  },
  {
   "cell_type": "markdown",
   "metadata": {},
   "source": [
    "Check the size and view the first few results."
   ]
  },
  {
   "cell_type": "code",
   "execution_count": 153,
   "metadata": {},
   "outputs": [
    {
     "name": "stdout",
     "output_type": "stream",
     "text": [
      "(2058, 7)\n"
     ]
    },
    {
     "data": {
      "text/html": [
       "<div>\n",
       "<style scoped>\n",
       "    .dataframe tbody tr th:only-of-type {\n",
       "        vertical-align: middle;\n",
       "    }\n",
       "\n",
       "    .dataframe tbody tr th {\n",
       "        vertical-align: top;\n",
       "    }\n",
       "\n",
       "    .dataframe thead th {\n",
       "        text-align: right;\n",
       "    }\n",
       "</style>\n",
       "<table border=\"1\" class=\"dataframe\">\n",
       "  <thead>\n",
       "    <tr style=\"text-align: right;\">\n",
       "      <th></th>\n",
       "      <th>City</th>\n",
       "      <th>City Latitude</th>\n",
       "      <th>City Longitude</th>\n",
       "      <th>Venue</th>\n",
       "      <th>Venue Latitude</th>\n",
       "      <th>Venue Longitude</th>\n",
       "      <th>Venue Category</th>\n",
       "    </tr>\n",
       "  </thead>\n",
       "  <tbody>\n",
       "    <tr>\n",
       "      <th>0</th>\n",
       "      <td>Agoura Hills</td>\n",
       "      <td>34.14611</td>\n",
       "      <td>-118.77812</td>\n",
       "      <td>Future Track Running Center</td>\n",
       "      <td>34.145819</td>\n",
       "      <td>-118.779251</td>\n",
       "      <td>Sporting Goods Shop</td>\n",
       "    </tr>\n",
       "    <tr>\n",
       "      <th>1</th>\n",
       "      <td>Agoura Hills</td>\n",
       "      <td>34.14611</td>\n",
       "      <td>-118.77812</td>\n",
       "      <td>Twisted Oak Tavern</td>\n",
       "      <td>34.145308</td>\n",
       "      <td>-118.778679</td>\n",
       "      <td>Gastropub</td>\n",
       "    </tr>\n",
       "    <tr>\n",
       "      <th>2</th>\n",
       "      <td>Agoura Hills</td>\n",
       "      <td>34.14611</td>\n",
       "      <td>-118.77812</td>\n",
       "      <td>Grissini Ristorante</td>\n",
       "      <td>34.145815</td>\n",
       "      <td>-118.778534</td>\n",
       "      <td>Italian Restaurant</td>\n",
       "    </tr>\n",
       "    <tr>\n",
       "      <th>3</th>\n",
       "      <td>Agoura Hills</td>\n",
       "      <td>34.14611</td>\n",
       "      <td>-118.77812</td>\n",
       "      <td>Cafe Bizou</td>\n",
       "      <td>34.148410</td>\n",
       "      <td>-118.782587</td>\n",
       "      <td>French Restaurant</td>\n",
       "    </tr>\n",
       "    <tr>\n",
       "      <th>4</th>\n",
       "      <td>Agoura Hills</td>\n",
       "      <td>34.14611</td>\n",
       "      <td>-118.77812</td>\n",
       "      <td>Pizza Nosh</td>\n",
       "      <td>34.148311</td>\n",
       "      <td>-118.782181</td>\n",
       "      <td>Pizza Place</td>\n",
       "    </tr>\n",
       "  </tbody>\n",
       "</table>\n",
       "</div>"
      ],
      "text/plain": [
       "           City  City Latitude  City Longitude                        Venue  \\\n",
       "0  Agoura Hills       34.14611      -118.77812  Future Track Running Center   \n",
       "1  Agoura Hills       34.14611      -118.77812           Twisted Oak Tavern   \n",
       "2  Agoura Hills       34.14611      -118.77812          Grissini Ristorante   \n",
       "3  Agoura Hills       34.14611      -118.77812                   Cafe Bizou   \n",
       "4  Agoura Hills       34.14611      -118.77812                   Pizza Nosh   \n",
       "\n",
       "   Venue Latitude  Venue Longitude       Venue Category  \n",
       "0       34.145819      -118.779251  Sporting Goods Shop  \n",
       "1       34.145308      -118.778679            Gastropub  \n",
       "2       34.145815      -118.778534   Italian Restaurant  \n",
       "3       34.148410      -118.782587    French Restaurant  \n",
       "4       34.148311      -118.782181          Pizza Place  "
      ]
     },
     "execution_count": 153,
     "metadata": {},
     "output_type": "execute_result"
    }
   ],
   "source": [
    "print(la_venues.shape)\n",
    "la_venues.head()"
   ]
  },
  {
   "cell_type": "code",
   "execution_count": 15,
   "metadata": {},
   "outputs": [
    {
     "data": {
      "text/plain": [
       "270"
      ]
     },
     "execution_count": 15,
     "metadata": {},
     "output_type": "execute_result"
    }
   ],
   "source": [
    "len(la_venues['Venue Category'].unique())"
   ]
  },
  {
   "cell_type": "markdown",
   "metadata": {},
   "source": [
    "We are interested in the total count of venues for each City. We will Add the counts to our original DataFrame."
   ]
  },
  {
   "cell_type": "code",
   "execution_count": 154,
   "metadata": {},
   "outputs": [],
   "source": [
    "df = df.merge(la_venues.groupby('City').count()['Venue'].sort_values(ascending=True), on='City')"
   ]
  },
  {
   "cell_type": "code",
   "execution_count": 156,
   "metadata": {},
   "outputs": [
    {
     "data": {
      "text/html": [
       "<div>\n",
       "<style scoped>\n",
       "    .dataframe tbody tr th:only-of-type {\n",
       "        vertical-align: middle;\n",
       "    }\n",
       "\n",
       "    .dataframe tbody tr th {\n",
       "        vertical-align: top;\n",
       "    }\n",
       "\n",
       "    .dataframe thead th {\n",
       "        text-align: right;\n",
       "    }\n",
       "</style>\n",
       "<table border=\"1\" class=\"dataframe\">\n",
       "  <thead>\n",
       "    <tr style=\"text-align: right;\">\n",
       "      <th></th>\n",
       "      <th>City</th>\n",
       "      <th>Population</th>\n",
       "      <th>Latitude</th>\n",
       "      <th>Longitude</th>\n",
       "      <th>Land_Area_sqmi</th>\n",
       "      <th>ALAND</th>\n",
       "      <th>Venue</th>\n",
       "    </tr>\n",
       "  </thead>\n",
       "  <tbody>\n",
       "    <tr>\n",
       "      <th>0</th>\n",
       "      <td>Agoura Hills</td>\n",
       "      <td>20330</td>\n",
       "      <td>34.14611</td>\n",
       "      <td>-118.77812</td>\n",
       "      <td>7.801</td>\n",
       "      <td>20203991</td>\n",
       "      <td>18</td>\n",
       "    </tr>\n",
       "    <tr>\n",
       "      <th>1</th>\n",
       "      <td>Alhambra</td>\n",
       "      <td>83653</td>\n",
       "      <td>34.09370</td>\n",
       "      <td>-118.12727</td>\n",
       "      <td>7.631</td>\n",
       "      <td>19764227</td>\n",
       "      <td>43</td>\n",
       "    </tr>\n",
       "    <tr>\n",
       "      <th>2</th>\n",
       "      <td>Arcadia</td>\n",
       "      <td>56364</td>\n",
       "      <td>34.13614</td>\n",
       "      <td>-118.03887</td>\n",
       "      <td>10.925</td>\n",
       "      <td>28294900</td>\n",
       "      <td>1</td>\n",
       "    </tr>\n",
       "    <tr>\n",
       "      <th>3</th>\n",
       "      <td>Artesia</td>\n",
       "      <td>16522</td>\n",
       "      <td>33.86114</td>\n",
       "      <td>-118.07968</td>\n",
       "      <td>1.621</td>\n",
       "      <td>4197593</td>\n",
       "      <td>42</td>\n",
       "    </tr>\n",
       "    <tr>\n",
       "      <th>4</th>\n",
       "      <td>Avalon</td>\n",
       "      <td>3728</td>\n",
       "      <td>33.34411</td>\n",
       "      <td>-118.32139</td>\n",
       "      <td>2.883</td>\n",
       "      <td>7468050</td>\n",
       "      <td>57</td>\n",
       "    </tr>\n",
       "  </tbody>\n",
       "</table>\n",
       "</div>"
      ],
      "text/plain": [
       "           City  Population  Latitude  Longitude  Land_Area_sqmi     ALAND  \\\n",
       "0  Agoura Hills       20330  34.14611 -118.77812           7.801  20203991   \n",
       "1      Alhambra       83653  34.09370 -118.12727           7.631  19764227   \n",
       "2       Arcadia       56364  34.13614 -118.03887          10.925  28294900   \n",
       "3       Artesia       16522  33.86114 -118.07968           1.621   4197593   \n",
       "4        Avalon        3728  33.34411 -118.32139           2.883   7468050   \n",
       "\n",
       "   Venue  \n",
       "0     18  \n",
       "1     43  \n",
       "2      1  \n",
       "3     42  \n",
       "4     57  "
      ]
     },
     "execution_count": 156,
     "metadata": {},
     "output_type": "execute_result"
    }
   ],
   "source": [
    "df.head()"
   ]
  },
  {
   "cell_type": "markdown",
   "metadata": {},
   "source": [
    "We have now acquired and merged all data required for our analysis. We will save this DataFrame so we can skip the previous steps if things go wrong!"
   ]
  },
  {
   "cell_type": "code",
   "execution_count": 157,
   "metadata": {},
   "outputs": [],
   "source": [
    "df.to_csv('la_ready_for_analysis.csv', index=False)"
   ]
  },
  {
   "cell_type": "markdown",
   "metadata": {},
   "source": [
    "## 3. Preprocess the Data:"
   ]
  },
  {
   "cell_type": "markdown",
   "metadata": {},
   "source": [
    "### 3.1 Preprocessing Purpose"
   ]
  },
  {
   "cell_type": "markdown",
   "metadata": {},
   "source": [
    "We will now preprocess our data so we can make useful analysis. Our preprocessing will include the calculation of population density and venu density per land area for each of the cities. After calculating the densities, we will normalize using a MinMaxScaler from sklearn. This will ensure the densities are used equally when calculating clusters."
   ]
  },
  {
   "cell_type": "markdown",
   "metadata": {},
   "source": [
    "### 3.2 Load the Data"
   ]
  },
  {
   "cell_type": "code",
   "execution_count": 3,
   "metadata": {},
   "outputs": [
    {
     "name": "stdout",
     "output_type": "stream",
     "text": [
      "(77, 7)\n"
     ]
    },
    {
     "data": {
      "text/html": [
       "<div>\n",
       "<style scoped>\n",
       "    .dataframe tbody tr th:only-of-type {\n",
       "        vertical-align: middle;\n",
       "    }\n",
       "\n",
       "    .dataframe tbody tr th {\n",
       "        vertical-align: top;\n",
       "    }\n",
       "\n",
       "    .dataframe thead th {\n",
       "        text-align: right;\n",
       "    }\n",
       "</style>\n",
       "<table border=\"1\" class=\"dataframe\">\n",
       "  <thead>\n",
       "    <tr style=\"text-align: right;\">\n",
       "      <th></th>\n",
       "      <th>Population</th>\n",
       "      <th>Latitude</th>\n",
       "      <th>Longitude</th>\n",
       "      <th>Land_Area_sqmi</th>\n",
       "      <th>ALAND</th>\n",
       "      <th>Venue</th>\n",
       "    </tr>\n",
       "  </thead>\n",
       "  <tbody>\n",
       "    <tr>\n",
       "      <th>count</th>\n",
       "      <td>7.700000e+01</td>\n",
       "      <td>77.000000</td>\n",
       "      <td>77.000000</td>\n",
       "      <td>77.000000</td>\n",
       "      <td>7.700000e+01</td>\n",
       "      <td>77.000000</td>\n",
       "    </tr>\n",
       "    <tr>\n",
       "      <th>mean</th>\n",
       "      <td>1.098218e+05</td>\n",
       "      <td>34.012020</td>\n",
       "      <td>-118.197845</td>\n",
       "      <td>17.887039</td>\n",
       "      <td>4.632716e+07</td>\n",
       "      <td>26.727273</td>\n",
       "    </tr>\n",
       "    <tr>\n",
       "      <th>std</th>\n",
       "      <td>4.302547e+05</td>\n",
       "      <td>0.183215</td>\n",
       "      <td>0.224700</td>\n",
       "      <td>55.067444</td>\n",
       "      <td>1.426242e+08</td>\n",
       "      <td>19.115051</td>\n",
       "    </tr>\n",
       "    <tr>\n",
       "      <th>min</th>\n",
       "      <td>1.120000e+02</td>\n",
       "      <td>33.344110</td>\n",
       "      <td>-118.818750</td>\n",
       "      <td>0.948000</td>\n",
       "      <td>2.455587e+06</td>\n",
       "      <td>1.000000</td>\n",
       "    </tr>\n",
       "    <tr>\n",
       "      <th>25%</th>\n",
       "      <td>2.025600e+04</td>\n",
       "      <td>33.895690</td>\n",
       "      <td>-118.353740</td>\n",
       "      <td>3.577000</td>\n",
       "      <td>9.263209e+06</td>\n",
       "      <td>12.000000</td>\n",
       "    </tr>\n",
       "    <tr>\n",
       "      <th>50%</th>\n",
       "      <td>4.636100e+04</td>\n",
       "      <td>34.011580</td>\n",
       "      <td>-118.154940</td>\n",
       "      <td>7.236000</td>\n",
       "      <td>1.874171e+07</td>\n",
       "      <td>23.000000</td>\n",
       "    </tr>\n",
       "    <tr>\n",
       "      <th>75%</th>\n",
       "      <td>8.429300e+04</td>\n",
       "      <td>34.112980</td>\n",
       "      <td>-118.063700</td>\n",
       "      <td>13.472000</td>\n",
       "      <td>3.489115e+07</td>\n",
       "      <td>35.000000</td>\n",
       "    </tr>\n",
       "    <tr>\n",
       "      <th>max</th>\n",
       "      <td>3.792621e+06</td>\n",
       "      <td>34.698900</td>\n",
       "      <td>-117.750030</td>\n",
       "      <td>468.956000</td>\n",
       "      <td>1.214591e+09</td>\n",
       "      <td>95.000000</td>\n",
       "    </tr>\n",
       "  </tbody>\n",
       "</table>\n",
       "</div>"
      ],
      "text/plain": [
       "         Population   Latitude   Longitude  Land_Area_sqmi         ALAND  \\\n",
       "count  7.700000e+01  77.000000   77.000000       77.000000  7.700000e+01   \n",
       "mean   1.098218e+05  34.012020 -118.197845       17.887039  4.632716e+07   \n",
       "std    4.302547e+05   0.183215    0.224700       55.067444  1.426242e+08   \n",
       "min    1.120000e+02  33.344110 -118.818750        0.948000  2.455587e+06   \n",
       "25%    2.025600e+04  33.895690 -118.353740        3.577000  9.263209e+06   \n",
       "50%    4.636100e+04  34.011580 -118.154940        7.236000  1.874171e+07   \n",
       "75%    8.429300e+04  34.112980 -118.063700       13.472000  3.489115e+07   \n",
       "max    3.792621e+06  34.698900 -117.750030      468.956000  1.214591e+09   \n",
       "\n",
       "           Venue  \n",
       "count  77.000000  \n",
       "mean   26.727273  \n",
       "std    19.115051  \n",
       "min     1.000000  \n",
       "25%    12.000000  \n",
       "50%    23.000000  \n",
       "75%    35.000000  \n",
       "max    95.000000  "
      ]
     },
     "execution_count": 3,
     "metadata": {},
     "output_type": "execute_result"
    }
   ],
   "source": [
    "df = pd.read_csv('la_ready_for_analysis.csv')\n",
    "print(df.shape)\n",
    "df.describe()"
   ]
  },
  {
   "cell_type": "markdown",
   "metadata": {},
   "source": [
    "### 3.3 Calculate Densities"
   ]
  },
  {
   "cell_type": "markdown",
   "metadata": {},
   "source": [
    "The population and venue density will be calculated in units per square mile from the columns **Land_Area_sqmi** and **Venue**."
   ]
  },
  {
   "cell_type": "code",
   "execution_count": 167,
   "metadata": {},
   "outputs": [
    {
     "data": {
      "text/html": [
       "<div>\n",
       "<style scoped>\n",
       "    .dataframe tbody tr th:only-of-type {\n",
       "        vertical-align: middle;\n",
       "    }\n",
       "\n",
       "    .dataframe tbody tr th {\n",
       "        vertical-align: top;\n",
       "    }\n",
       "\n",
       "    .dataframe thead th {\n",
       "        text-align: right;\n",
       "    }\n",
       "</style>\n",
       "<table border=\"1\" class=\"dataframe\">\n",
       "  <thead>\n",
       "    <tr style=\"text-align: right;\">\n",
       "      <th></th>\n",
       "      <th>City</th>\n",
       "      <th>Population</th>\n",
       "      <th>Latitude</th>\n",
       "      <th>Longitude</th>\n",
       "      <th>Land_Area_sqmi</th>\n",
       "      <th>ALAND</th>\n",
       "      <th>Venue</th>\n",
       "      <th>Population_Density</th>\n",
       "      <th>Venue_Density</th>\n",
       "    </tr>\n",
       "  </thead>\n",
       "  <tbody>\n",
       "    <tr>\n",
       "      <th>0</th>\n",
       "      <td>Agoura Hills</td>\n",
       "      <td>20330</td>\n",
       "      <td>34.14611</td>\n",
       "      <td>-118.77812</td>\n",
       "      <td>7.801</td>\n",
       "      <td>20203991</td>\n",
       "      <td>18</td>\n",
       "      <td>2606.076144</td>\n",
       "      <td>2.307396</td>\n",
       "    </tr>\n",
       "    <tr>\n",
       "      <th>1</th>\n",
       "      <td>Alhambra</td>\n",
       "      <td>83653</td>\n",
       "      <td>34.09370</td>\n",
       "      <td>-118.12727</td>\n",
       "      <td>7.631</td>\n",
       "      <td>19764227</td>\n",
       "      <td>43</td>\n",
       "      <td>10962.259206</td>\n",
       "      <td>5.634910</td>\n",
       "    </tr>\n",
       "    <tr>\n",
       "      <th>2</th>\n",
       "      <td>Arcadia</td>\n",
       "      <td>56364</td>\n",
       "      <td>34.13614</td>\n",
       "      <td>-118.03887</td>\n",
       "      <td>10.925</td>\n",
       "      <td>28294900</td>\n",
       "      <td>1</td>\n",
       "      <td>5159.176201</td>\n",
       "      <td>0.091533</td>\n",
       "    </tr>\n",
       "    <tr>\n",
       "      <th>3</th>\n",
       "      <td>Artesia</td>\n",
       "      <td>16522</td>\n",
       "      <td>33.86114</td>\n",
       "      <td>-118.07968</td>\n",
       "      <td>1.621</td>\n",
       "      <td>4197593</td>\n",
       "      <td>42</td>\n",
       "      <td>10192.473782</td>\n",
       "      <td>25.909932</td>\n",
       "    </tr>\n",
       "    <tr>\n",
       "      <th>4</th>\n",
       "      <td>Avalon</td>\n",
       "      <td>3728</td>\n",
       "      <td>33.34411</td>\n",
       "      <td>-118.32139</td>\n",
       "      <td>2.883</td>\n",
       "      <td>7468050</td>\n",
       "      <td>57</td>\n",
       "      <td>1293.097468</td>\n",
       "      <td>19.771072</td>\n",
       "    </tr>\n",
       "  </tbody>\n",
       "</table>\n",
       "</div>"
      ],
      "text/plain": [
       "           City  Population  Latitude  Longitude  Land_Area_sqmi     ALAND  \\\n",
       "0  Agoura Hills       20330  34.14611 -118.77812           7.801  20203991   \n",
       "1      Alhambra       83653  34.09370 -118.12727           7.631  19764227   \n",
       "2       Arcadia       56364  34.13614 -118.03887          10.925  28294900   \n",
       "3       Artesia       16522  33.86114 -118.07968           1.621   4197593   \n",
       "4        Avalon        3728  33.34411 -118.32139           2.883   7468050   \n",
       "\n",
       "   Venue  Population_Density  Venue_Density  \n",
       "0     18         2606.076144       2.307396  \n",
       "1     43        10962.259206       5.634910  \n",
       "2      1         5159.176201       0.091533  \n",
       "3     42        10192.473782      25.909932  \n",
       "4     57         1293.097468      19.771072  "
      ]
     },
     "execution_count": 167,
     "metadata": {},
     "output_type": "execute_result"
    }
   ],
   "source": [
    "df['Population_Density'] = df['Population'] / df['Land_Area_sqmi']\n",
    "df['Venue_Density'] = df['Venue'] / df['Land_Area_sqmi']\n",
    "\n",
    "df.head()"
   ]
  },
  {
   "cell_type": "markdown",
   "metadata": {},
   "source": [
    "### 3.4 Normalize The Densities"
   ]
  },
  {
   "cell_type": "markdown",
   "metadata": {},
   "source": [
    "When we calculate our clusters, we need to ensure Population Density isn't more heavily favored compared to Venue Density. To accomplish this, we will use a **MinMaxScaler** object from sklearn."
   ]
  },
  {
   "cell_type": "code",
   "execution_count": 168,
   "metadata": {},
   "outputs": [
    {
     "data": {
      "text/html": [
       "<div>\n",
       "<style scoped>\n",
       "    .dataframe tbody tr th:only-of-type {\n",
       "        vertical-align: middle;\n",
       "    }\n",
       "\n",
       "    .dataframe tbody tr th {\n",
       "        vertical-align: top;\n",
       "    }\n",
       "\n",
       "    .dataframe thead th {\n",
       "        text-align: right;\n",
       "    }\n",
       "</style>\n",
       "<table border=\"1\" class=\"dataframe\">\n",
       "  <thead>\n",
       "    <tr style=\"text-align: right;\">\n",
       "      <th></th>\n",
       "      <th>City</th>\n",
       "      <th>Population</th>\n",
       "      <th>Latitude</th>\n",
       "      <th>Longitude</th>\n",
       "      <th>Land_Area_sqmi</th>\n",
       "      <th>ALAND</th>\n",
       "      <th>Venue</th>\n",
       "      <th>Population_Density</th>\n",
       "      <th>Venue_Density</th>\n",
       "      <th>norm_Population_D</th>\n",
       "      <th>norm_Venue_D</th>\n",
       "    </tr>\n",
       "  </thead>\n",
       "  <tbody>\n",
       "    <tr>\n",
       "      <th>0</th>\n",
       "      <td>Agoura Hills</td>\n",
       "      <td>20330</td>\n",
       "      <td>34.14611</td>\n",
       "      <td>-118.77812</td>\n",
       "      <td>7.801</td>\n",
       "      <td>20203991</td>\n",
       "      <td>18</td>\n",
       "      <td>2606.076144</td>\n",
       "      <td>2.307396</td>\n",
       "      <td>0.111202</td>\n",
       "      <td>0.048539</td>\n",
       "    </tr>\n",
       "    <tr>\n",
       "      <th>1</th>\n",
       "      <td>Alhambra</td>\n",
       "      <td>83653</td>\n",
       "      <td>34.09370</td>\n",
       "      <td>-118.12727</td>\n",
       "      <td>7.631</td>\n",
       "      <td>19764227</td>\n",
       "      <td>43</td>\n",
       "      <td>10962.259206</td>\n",
       "      <td>5.634910</td>\n",
       "      <td>0.470871</td>\n",
       "      <td>0.120533</td>\n",
       "    </tr>\n",
       "    <tr>\n",
       "      <th>2</th>\n",
       "      <td>Arcadia</td>\n",
       "      <td>56364</td>\n",
       "      <td>34.13614</td>\n",
       "      <td>-118.03887</td>\n",
       "      <td>10.925</td>\n",
       "      <td>28294900</td>\n",
       "      <td>1</td>\n",
       "      <td>5159.176201</td>\n",
       "      <td>0.091533</td>\n",
       "      <td>0.221093</td>\n",
       "      <td>0.000596</td>\n",
       "    </tr>\n",
       "    <tr>\n",
       "      <th>3</th>\n",
       "      <td>Artesia</td>\n",
       "      <td>16522</td>\n",
       "      <td>33.86114</td>\n",
       "      <td>-118.07968</td>\n",
       "      <td>1.621</td>\n",
       "      <td>4197593</td>\n",
       "      <td>42</td>\n",
       "      <td>10192.473782</td>\n",
       "      <td>25.909932</td>\n",
       "      <td>0.437737</td>\n",
       "      <td>0.559202</td>\n",
       "    </tr>\n",
       "    <tr>\n",
       "      <th>4</th>\n",
       "      <td>Avalon</td>\n",
       "      <td>3728</td>\n",
       "      <td>33.34411</td>\n",
       "      <td>-118.32139</td>\n",
       "      <td>2.883</td>\n",
       "      <td>7468050</td>\n",
       "      <td>57</td>\n",
       "      <td>1293.097468</td>\n",
       "      <td>19.771072</td>\n",
       "      <td>0.054688</td>\n",
       "      <td>0.426382</td>\n",
       "    </tr>\n",
       "  </tbody>\n",
       "</table>\n",
       "</div>"
      ],
      "text/plain": [
       "           City  Population  Latitude  Longitude  Land_Area_sqmi     ALAND  \\\n",
       "0  Agoura Hills       20330  34.14611 -118.77812           7.801  20203991   \n",
       "1      Alhambra       83653  34.09370 -118.12727           7.631  19764227   \n",
       "2       Arcadia       56364  34.13614 -118.03887          10.925  28294900   \n",
       "3       Artesia       16522  33.86114 -118.07968           1.621   4197593   \n",
       "4        Avalon        3728  33.34411 -118.32139           2.883   7468050   \n",
       "\n",
       "   Venue  Population_Density  Venue_Density  norm_Population_D  norm_Venue_D  \n",
       "0     18         2606.076144       2.307396           0.111202      0.048539  \n",
       "1     43        10962.259206       5.634910           0.470871      0.120533  \n",
       "2      1         5159.176201       0.091533           0.221093      0.000596  \n",
       "3     42        10192.473782      25.909932           0.437737      0.559202  \n",
       "4     57         1293.097468      19.771072           0.054688      0.426382  "
      ]
     },
     "execution_count": 168,
     "metadata": {},
     "output_type": "execute_result"
    }
   ],
   "source": [
    "from sklearn.preprocessing import MinMaxScaler\n",
    "\n",
    "scaler = MinMaxScaler()\n",
    "\n",
    "data_scaled = scaler.fit_transform(df[['Population_Density', 'Venue_Density']])\n",
    "\n",
    "to_merge = pd.DataFrame(data_scaled, columns=['norm_Population_D', 'norm_Venue_D'])\n",
    "\n",
    "df['norm_Population_D'] = to_merge['norm_Population_D']\n",
    "df['norm_Venue_D'] = to_merge['norm_Venue_D']\n",
    "\n",
    "df.head()"
   ]
  },
  {
   "cell_type": "markdown",
   "metadata": {},
   "source": [
    "## 4. Analyzing The Cities:"
   ]
  },
  {
   "cell_type": "markdown",
   "metadata": {},
   "source": [
    "### 4.1 Cluster Neighborhoods"
   ]
  },
  {
   "cell_type": "code",
   "execution_count": 169,
   "metadata": {},
   "outputs": [],
   "source": [
    "# import k-means from clustering stage\n",
    "from sklearn.cluster import KMeans\n",
    "\n",
    "import matplotlib.cm as cm\n",
    "import matplotlib.colors as colors"
   ]
  },
  {
   "cell_type": "code",
   "execution_count": 170,
   "metadata": {},
   "outputs": [
    {
     "data": {
      "text/plain": [
       "array([3, 2, 1, 4, 3, 1, 2, 2, 0, 2, 1, 1, 3, 1, 1, 3, 2, 1, 3, 3, 2, 3,\n",
       "       2, 1, 3, 4, 2, 4, 3, 0, 2, 3, 1, 2, 3, 1, 3, 0, 2, 1, 1, 2, 3, 2,\n",
       "       0, 3, 1, 1, 2, 3, 3, 1, 1, 1, 3, 2, 3, 3, 2, 3, 2, 2, 3, 3, 3, 2,\n",
       "       3, 1, 1, 2, 2, 1, 3, 1, 0, 3, 1], dtype=int32)"
      ]
     },
     "execution_count": 170,
     "metadata": {},
     "output_type": "execute_result"
    }
   ],
   "source": [
    "# set number of clusters\n",
    "kclusters = 5 # How to calculate adequate number of clusters?\n",
    "\n",
    "kmeans = KMeans(n_clusters=kclusters, random_state=0).fit(df[['norm_Population_D', 'norm_Venue_D']])\n",
    "\n",
    "kmeans.labels_[0:]"
   ]
  },
  {
   "cell_type": "code",
   "execution_count": 171,
   "metadata": {},
   "outputs": [],
   "source": [
    "df.insert(0, 'Cluster Labels', kmeans.labels_)"
   ]
  },
  {
   "cell_type": "code",
   "execution_count": 172,
   "metadata": {},
   "outputs": [
    {
     "data": {
      "text/html": [
       "<div style=\"width:100%;\"><div style=\"position:relative;width:100%;height:0;padding-bottom:60%;\"><iframe src=\"about:blank\" style=\"position:absolute;width:100%;height:100%;left:0;top:0;border:none !important;\" data-html=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 onload=\"this.contentDocument.open();this.contentDocument.write(atob(this.getAttribute('data-html')));this.contentDocument.close();\" allowfullscreen webkitallowfullscreen mozallowfullscreen></iframe></div></div>"
      ],
      "text/plain": [
       "<folium.folium.Map at 0x7f0e07d086d8>"
      ]
     },
     "execution_count": 172,
     "metadata": {},
     "output_type": "execute_result"
    }
   ],
   "source": [
    "# create map\n",
    "map_clusters = folium.Map(location=g.latlng, zoom_start=11)\n",
    "\n",
    "# set color scheme for the clusters\n",
    "x = np.arange(kclusters)\n",
    "ys = [i + x + (i*x)**2 for i in range(kclusters)]\n",
    "colors_array = cm.rainbow(np.linspace(0, 1, len(ys)))\n",
    "rainbow = [colors.rgb2hex(i) for i in colors_array]\n",
    "\n",
    "# add markers to the map\n",
    "markers_colors = []\n",
    "for lat, lon, poi, cluster in zip(df['Latitude'], df['Longitude'], df['City'], df['Cluster Labels']):\n",
    "    label = folium.Popup(str(poi) + ' Cluster ' + str(cluster), parse_html=True)\n",
    "    folium.CircleMarker(\n",
    "        [lat, lon],\n",
    "        radius=5,\n",
    "        popup=label,\n",
    "        color=rainbow[cluster-1],\n",
    "        fill=True,\n",
    "        fill_color=rainbow[cluster-1],\n",
    "        fill_opacity=0.7).add_to(map_clusters)\n",
    "       \n",
    "map_clusters"
   ]
  },
  {
   "cell_type": "markdown",
   "metadata": {},
   "source": [
    "### 4.2 Examine Clusters"
   ]
  },
  {
   "cell_type": "code",
   "execution_count": 194,
   "metadata": {},
   "outputs": [],
   "source": [
    "import matplotlib.pyplot as plt\n",
    "import seaborn as sns\n",
    "%matplotlib inline"
   ]
  },
  {
   "cell_type": "markdown",
   "metadata": {},
   "source": [
    "Lets take a quick look at how the clusters worked out:"
   ]
  },
  {
   "cell_type": "code",
   "execution_count": 197,
   "metadata": {},
   "outputs": [
    {
     "data": {
      "text/html": [
       "<div>\n",
       "<style scoped>\n",
       "    .dataframe tbody tr th:only-of-type {\n",
       "        vertical-align: middle;\n",
       "    }\n",
       "\n",
       "    .dataframe tbody tr th {\n",
       "        vertical-align: top;\n",
       "    }\n",
       "\n",
       "    .dataframe thead th {\n",
       "        text-align: right;\n",
       "    }\n",
       "</style>\n",
       "<table border=\"1\" class=\"dataframe\">\n",
       "  <thead>\n",
       "    <tr style=\"text-align: right;\">\n",
       "      <th>Cluster Labels</th>\n",
       "      <th>0</th>\n",
       "      <th>1</th>\n",
       "      <th>2</th>\n",
       "      <th>3</th>\n",
       "      <th>4</th>\n",
       "    </tr>\n",
       "  </thead>\n",
       "  <tbody>\n",
       "    <tr>\n",
       "      <th>Population_Density</th>\n",
       "      <td>18894.555647</td>\n",
       "      <td>6583.150868</td>\n",
       "      <td>11179.945239</td>\n",
       "      <td>2157.527527</td>\n",
       "      <td>12969.053547</td>\n",
       "    </tr>\n",
       "    <tr>\n",
       "      <th>Venue_Density</th>\n",
       "      <td>9.807719</td>\n",
       "      <td>2.339028</td>\n",
       "      <td>5.602873</td>\n",
       "      <td>3.731543</td>\n",
       "      <td>36.371024</td>\n",
       "    </tr>\n",
       "  </tbody>\n",
       "</table>\n",
       "</div>"
      ],
      "text/plain": [
       "Cluster Labels                 0            1             2            3  \\\n",
       "Population_Density  18894.555647  6583.150868  11179.945239  2157.527527   \n",
       "Venue_Density           9.807719     2.339028      5.602873     3.731543   \n",
       "\n",
       "Cluster Labels                 4  \n",
       "Population_Density  12969.053547  \n",
       "Venue_Density          36.371024  "
      ]
     },
     "execution_count": 197,
     "metadata": {},
     "output_type": "execute_result"
    }
   ],
   "source": [
    "df[['Population_Density', 'Venue_Density', 'Cluster Labels']].groupby('Cluster Labels').mean().T"
   ]
  },
  {
   "cell_type": "markdown",
   "metadata": {},
   "source": [
    "Lets visualize the previous values. Not very pretty, but we can see what we need. We probably would want to avoid Cities in Cluster 0 and in Cluster 4 as they have the highest population and venue densities."
   ]
  },
  {
   "cell_type": "code",
   "execution_count": 224,
   "metadata": {},
   "outputs": [
    {
     "data": {
      "text/plain": [
       "<matplotlib.axes._subplots.AxesSubplot at 0x7f0e05de2ef0>"
      ]
     },
     "execution_count": 224,
     "metadata": {},
     "output_type": "execute_result"
    },
    {
     "data": {
      "image/png": "[encoded data removed]",
      "text/plain": [
       "<Figure size 432x288 with 1 Axes>"
      ]
     },
     "metadata": {
      "needs_background": "light"
     },
     "output_type": "display_data"
    }
   ],
   "source": [
    "#df[['Population_Density', 'Venue_Density', 'Cluster Labels']].groupby('Cluster Labels').mean().unstack().plot.bar()\n",
    "gb = df.groupby('Cluster Labels').mean()[['Population_Density', 'Venue_Density']]\n",
    "gb['Venue_Density'] = gb['Venue_Density']*500\n",
    "gb.plot.bar()"
   ]
  },
  {
   "cell_type": "code",
   "execution_count": 236,
   "metadata": {},
   "outputs": [],
   "source": [
    "# create map\n",
    "df_q = df.loc[df['Cluster Labels'].isin(['3', '1'])]\n",
    "quiet_clusters = folium.Map(location=g.latlng, zoom_start=11)\n",
    "\n",
    "# set color scheme for the clusters\n",
    "x = np.arange(kclusters)\n",
    "ys = [i + x + (i*x)**2 for i in range(kclusters)]\n",
    "colors_array = cm.rainbow(np.linspace(0, 1, len(ys)))\n",
    "rainbow = [colors.rgb2hex(i) for i in colors_array]\n",
    "\n",
    "# add markers to the map\n",
    "markers_colors = []\n",
    "for lat, lon, poi, cluster in zip(df_q['Latitude'], df_q['Longitude'], df_q['City'], df_q['Cluster Labels']):\n",
    "    label = folium.Popup(str(poi) + ' Cluster ' + str(cluster), parse_html=True)\n",
    "    folium.CircleMarker(\n",
    "        [lat, lon],\n",
    "        radius=5,\n",
    "        popup=label,\n",
    "        color=rainbow[cluster-1],\n",
    "        fill=True,\n",
    "        fill_color=rainbow[cluster-1],\n",
    "        fill_opacity=0.7).add_to(quiet_clusters)"
   ]
  },
  {
   "cell_type": "code",
   "execution_count": 234,
   "metadata": {},
   "outputs": [],
   "source": [
    "# create map\n",
    "df_l = df.loc[df['Cluster Labels'].isin(['0', '2', '4'])]\n",
    "loud_clusters = folium.Map(location=g.latlng, zoom_start=11)\n",
    "\n",
    "# set color scheme for the clusters\n",
    "x = np.arange(kclusters)\n",
    "ys = [i + x + (i*x)**2 for i in range(kclusters)]\n",
    "colors_array = cm.rainbow(np.linspace(0, 1, len(ys)))\n",
    "rainbow = [colors.rgb2hex(i) for i in colors_array]\n",
    "\n",
    "# add markers to the map\n",
    "markers_colors = []\n",
    "for lat, lon, poi, cluster in zip(df_l['Latitude'], df_l['Longitude'], df_l['City'], df_l['Cluster Labels']):\n",
    "    label = folium.Popup(str(poi) + ' Cluster ' + str(cluster), parse_html=True)\n",
    "    folium.CircleMarker(\n",
    "        [lat, lon],\n",
    "        radius=5,\n",
    "        popup=label,\n",
    "        color=rainbow[cluster-1],\n",
    "        fill=True,\n",
    "        fill_color=rainbow[cluster-1],\n",
    "        fill_opacity=0.7).add_to(loud_clusters)"
   ]
  },
  {
   "cell_type": "code",
   "execution_count": 239,
   "metadata": {},
   "outputs": [
    {
     "data": {
      "text/html": [
       "<div style=\"width:100%;\"><div style=\"position:relative;width:100%;height:0;padding-bottom:60%;\"><iframe src=\"about:blank\" style=\"position:absolute;width:100%;height:100%;left:0;top:0;border:none !important;\" data-html=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 onload=\"this.contentDocument.open();this.contentDocument.write(atob(this.getAttribute('data-html')));this.contentDocument.close();\" allowfullscreen webkitallowfullscreen mozallowfullscreen></iframe></div></div>"
      ],
      "text/plain": [
       "<folium.folium.Map at 0x7f0e05d601d0>"
      ]
     },
     "execution_count": 239,
     "metadata": {},
     "output_type": "execute_result"
    }
   ],
   "source": [
    "quiet_clusters"
   ]
  },
  {
   "cell_type": "code",
   "execution_count": 238,
   "metadata": {},
   "outputs": [
    {
     "data": {
      "text/html": [
       "<div style=\"width:100%;\"><div style=\"position:relative;width:100%;height:0;padding-bottom:60%;\"><iframe src=\"about:blank\" style=\"position:absolute;width:100%;height:100%;left:0;top:0;border:none !important;\" data-html=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 onload=\"this.contentDocument.open();this.contentDocument.write(atob(this.getAttribute('data-html')));this.contentDocument.close();\" allowfullscreen webkitallowfullscreen mozallowfullscreen></iframe></div></div>"
      ],
      "text/plain": [
       "<folium.folium.Map at 0x7f0e05d60128>"
      ]
     },
     "execution_count": 238,
     "metadata": {},
     "output_type": "execute_result"
    }
   ],
   "source": [
    "loud_clusters"
   ]
  },
  {
   "cell_type": "markdown",
   "metadata": {},
   "source": [
    "## 5. Conclusion:"
   ]
  },
  {
   "cell_type": "markdown",
   "metadata": {},
   "source": [
    "In this study we used population counts, venue counts and land areas of cities in Los Angeles County, CA in an attempt to identify areas of low cultural noise. We obtained this data through python libraries to scape city information and the use of Foursquare's API to tie venue counts to each of the cities. Since we have no available data to target, we made the assumption that cities with low population density and low venue density were to be considered quiet. Under this assumption, we were able to identify five different clusters of cities in Los Angeles County and identified which of these would be best described as a quiet area. "
   ]
  }
 ],
 "metadata": {
  "kernelspec": {
   "display_name": "Python 3",
   "language": "python",
   "name": "python3"
  },
  "language_info": {
   "codemirror_mode": {
    "name": "ipython",
    "version": 3
   },
   "file_extension": ".py",
   "mimetype": "text/x-python",
   "name": "python",
   "nbconvert_exporter": "python",
   "pygments_lexer": "ipython3",
   "version": "3.7.3"
  }
 },
 "nbformat": 4,
 "nbformat_minor": 4
}
