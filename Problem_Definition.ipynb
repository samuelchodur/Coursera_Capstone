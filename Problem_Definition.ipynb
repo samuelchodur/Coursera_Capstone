{
 "cells": [
  {
   "cell_type": "markdown",
   "metadata": {},
   "source": [
    "# Exploring Los Angeles County Cities: Identifying 'Quiet' Areas"
   ]
  },
  {
   "cell_type": "markdown",
   "metadata": {},
   "source": [
    "## 1. Discussion and Background of the Business Problem:"
   ]
  },
  {
   "cell_type": "markdown",
   "metadata": {},
   "source": [
    "### 1.1 Problem Statement: Prospects of Relatively 'Quiet' Cities in the Surrounding Los Angeles Area"
   ]
  },
  {
   "cell_type": "markdown",
   "metadata": {},
   "source": [
    "Los Angeles is the largest city in the state of California. It has an estimated population of nearly four million people making it tough to find 'quiet' places that lack cultural noise."
   ]
  },
  {
   "cell_type": "markdown",
   "metadata": {},
   "source": [
    "### 1.2 Target Audience"
   ]
  },
  {
   "cell_type": "markdown",
   "metadata": {},
   "source": [
    "What type of clients or a group of people would be interested in this project?\n",
    "\n",
    "- Business Owners\n",
    "- Prospective Home Owners\n",
    "- Seismic Sensor Installers"
   ]
  },
  {
   "cell_type": "markdown",
   "metadata": {},
   "source": [
    "### 1.3 Data Description"
   ]
  },
  {
   "cell_type": "markdown",
   "metadata": {},
   "source": [
    "Data will be collected from the following sources:\n",
    "- Los Angeles county city data that contains **city name**, and **population**.<br>\n",
    "     *Data Source:* [Wikipedia](https://en.wikipedia.org/wiki/List_of_cities_in_Los_Angeles_County,_California)\n",
    "- Coordinate data for the cities in Los Angeles county which includes **latitude** and **longitude**.<br>\n",
    "     *Data Source:* The Geocoder Python library\n",
    "- The number of retail establishments will be fetched using the Foursquare API.<br>\n",
    "     *Data Source:* Foursquare API"
   ]
  },
  {
   "cell_type": "markdown",
   "metadata": {},
   "source": [
    "### 1.4 Approach"
   ]
  },
  {
   "cell_type": "markdown",
   "metadata": {},
   "source": [
    "The approach to resolve the issue of identifying the most quiet areas in Los Angeles county is as follows:\n",
    "\n",
    "- Collect Los Angeles county city data from Wikipedia.\n",
    "- Utilize the Geocoder Python library to collect city coordinate data.\n",
    "- Use the Foursquare API to get the approximate number of retail establishments in each City.\n",
    "- Visualize the data and do some statistical analysis.\n",
    "- Analyzing by using Clustering (K-Means).\n",
    "- Find the best value for K.\n",
    "- Visualize the city max density of population.\n",
    "- Visualize the city max density of retail establishments.\n",
    "- From results, infer which areas would be the quietest and draw conclusions."
   ]
  }
 ],
 "metadata": {
  "kernelspec": {
   "display_name": "Python 3",
   "language": "python",
   "name": "python3"
  },
  "language_info": {
   "codemirror_mode": {
    "name": "ipython",
    "version": 3
   },
   "file_extension": ".py",
   "mimetype": "text/x-python",
   "name": "python",
   "nbconvert_exporter": "python",
   "pygments_lexer": "ipython3",
   "version": "3.7.3"
  }
 },
 "nbformat": 4,
 "nbformat_minor": 4
}
